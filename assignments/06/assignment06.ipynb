{
 "cells": [
  {
   "cell_type": "code",
   "execution_count": null,
   "metadata": {},
   "outputs": [],
   "source": [
    "import pandas as pd\n",
    "import numpy as np\n",
    "import matplotlib as plt"
   ]
  },
  {
   "cell_type": "code",
   "execution_count": null,
   "metadata": {},
   "outputs": [],
   "source": [
    "# Der Dateipfad zur Datei, die du öffnen möchtest\n",
    "datei_pfad =  'C:/Users/Maste/Documents/Bildung/Studium/Data & Information Science (B.Sc.)/Datenmodellierung/data/2011_circ.csv'\n",
    "\n",
    "# Öffnen der Datei im Lesemodus ('r' steht für Read)\n",
    "with open(datei_pfad, 'r') as datei:\n",
    "\n",
    "    # Einlesen des gesamten Inhalts der Datei\n",
    "    inhalt = datei.read()\n",
    "    # Den Inhalt der Datei ausgeben\n",
    "    print(inhalt)"
   ]
  },
  {
   "cell_type": "markdown",
   "metadata": {},
   "source": [
    "# Aufgaben"
   ]
  },
  {
   "cell_type": "markdown",
   "metadata": {},
   "source": [
    "## 1. Anlegen eines Panda Dataframes"
   ]
  },
  {
   "cell_type": "code",
   "execution_count": null,
   "metadata": {},
   "outputs": [],
   "source": [
    "df = pd.read_csv(datei_pfad)\n",
    "\n",
    "print(df)\n"
   ]
  },
  {
   "cell_type": "markdown",
   "metadata": {},
   "source": [
    "## 2. Panda Funktionen testen"
   ]
  },
  {
   "cell_type": "markdown",
   "metadata": {},
   "source": [
    "*.info()*"
   ]
  },
  {
   "cell_type": "code",
   "execution_count": null,
   "metadata": {},
   "outputs": [],
   "source": [
    "df.info()\n",
    "\n",
    "# Gibt alle vorhanden Spalten, den Datentyp und vorhandene NULL-Werte an"
   ]
  },
  {
   "cell_type": "markdown",
   "metadata": {},
   "source": [
    "*.head()*"
   ]
  },
  {
   "cell_type": "code",
   "execution_count": null,
   "metadata": {},
   "outputs": [],
   "source": [
    "df.head(10)\n",
    "\n",
    "# Gibt die ersten n Zeilen an"
   ]
  },
  {
   "cell_type": "markdown",
   "metadata": {},
   "source": [
    "*.tail()*"
   ]
  },
  {
   "cell_type": "code",
   "execution_count": null,
   "metadata": {},
   "outputs": [],
   "source": [
    "df.tail(10)\n",
    "\n",
    "# Gibt die letzten n Zeilen an"
   ]
  },
  {
   "cell_type": "markdown",
   "metadata": {},
   "source": [
    "*.describe()*"
   ]
  },
  {
   "cell_type": "code",
   "execution_count": null,
   "metadata": {},
   "outputs": [],
   "source": [
    "df.describe()\n",
    "\n",
    "# Gut für erste Anhaltspunkte deskriptiver Statistik\n",
    "# mean = mittelwert"
   ]
  },
  {
   "cell_type": "markdown",
   "metadata": {},
   "source": [
    "*colums*"
   ]
  },
  {
   "cell_type": "code",
   "execution_count": null,
   "metadata": {},
   "outputs": [],
   "source": [
    "df.columns\n",
    "\n",
    "# Gibt die Überschriften als Liste an"
   ]
  },
  {
   "cell_type": "markdown",
   "metadata": {},
   "source": [
    "## Fragen"
   ]
  },
  {
   "cell_type": "markdown",
   "metadata": {},
   "source": [
    "1. How do you get the first/last ten rows of the DataFrame?\n",
    "2. How do you get the rows between row 30 and row 40?\n",
    "3. How do you get a specific column, e.g., 'year'? What kind of `type()` has the column?\n",
    "4. What is the `*.pkl` file? How do load it into your program and what are the data contents in it?\n",
    "5. What is the purpose of `.loc()` and `.iloc()`?\n",
    "6. How do you sort values in a column?"
   ]
  },
  {
   "cell_type": "code",
   "execution_count": null,
   "metadata": {},
   "outputs": [],
   "source": [
    "# 1. How do you get the first/last ten rows of the DataFrame?\n",
    "\n",
    "#First ten rows\n",
    "print(df.head(10))\n",
    "\n",
    "#last ten rows\n",
    "print(df.tail(10))\n"
   ]
  },
  {
   "cell_type": "code",
   "execution_count": null,
   "metadata": {},
   "outputs": [],
   "source": [
    "# 2. How do you get the rows between row 30 and row 40?\n",
    "df.iloc[30:40]"
   ]
  },
  {
   "cell_type": "code",
   "execution_count": null,
   "metadata": {},
   "outputs": [],
   "source": [
    "# 3. How do you get a specific column, e.g., 'year'? What kind of `type()` has the column?\n",
    "\n",
    "# Getting a specific column\n",
    "print(df[\"january\"])\n",
    "\n",
    "# Getting information about the type from a specific coloumn+\n",
    "print(df[\"january\"].dtype)"
   ]
  },
  {
   "cell_type": "code",
   "execution_count": null,
   "metadata": {},
   "outputs": [],
   "source": [
    "# 4. What is the `*.pkl` file? How do load it into your program and what are the data contents in it?\n",
    "\n",
    "df2 = pd.read_pickle(\"C:/Users/Maste/Documents/Bildung/Studium/Data & Information Science (B.Sc.)/Datenmodellierung/data/all_years.pkl\")\n",
    "\n",
    "print(df2)\n",
    "\n",
    "# Was ist in der Datei: Daten, die vom Aufbau her wie die csv-Datein sind nur mit mehr Datensätzen. Dem namen der Datei zufolge ist es wahrscheinlich, dass alle Jahre (alle Daten der csv-Datein) hierin konsolidiert wurden."
   ]
  },
  {
   "cell_type": "code",
   "execution_count": null,
   "metadata": {},
   "outputs": [],
   "source": [
    "# 5. What is the purpose of `.loc()` and `.iloc()`?\n",
    "\n",
    "# .loc -> Filtering the information\n",
    "high_januar_sales = df.loc[df['january']>20000]\n",
    "\n",
    "print(\"High Januar Sales\")\n",
    "print(high_januar_sales)\n",
    "\n",
    "# iloc Filtering specific rows and columns\n",
    "print(\"Zeile 20 - 25\")\n",
    "print(df.iloc[20:25])\n",
    "\n",
    "print(\"Zeile 20-25 von den ersten 4 SPalten\")\n",
    "print(df.iloc[20:25, 0:4])"
   ]
  },
  {
   "cell_type": "code",
   "execution_count": null,
   "metadata": {},
   "outputs": [],
   "source": [
    "# 6. How do you sort values in a column?\n",
    "df.sort_values(by=\"january\", ascending=False) #Absteigend sortiert. Falls man aufsteigend sortieren möchte, entfernt man das ascending, oder schreibt \"True\" anstatt \"False\" hin."
   ]
  }
 ],
 "metadata": {
  "kernelspec": {
   "display_name": "venvDIS08",
   "language": "python",
   "name": "python3"
  },
  "language_info": {
   "codemirror_mode": {
    "name": "ipython",
    "version": 3
   },
   "file_extension": ".py",
   "mimetype": "text/x-python",
   "name": "python",
   "nbconvert_exporter": "python",
   "pygments_lexer": "ipython3",
   "version": "3.13.0"
  }
 },
 "nbformat": 4,
 "nbformat_minor": 2
}
